{
 "cells": [
  {
   "cell_type": "markdown",
   "id": "58f4373a-7ac0-4922-a23b-22fbff7919a0",
   "metadata": {},
   "source": [
    "## About Dataset\n",
    "### Context\n",
    "\n",
    "This dataset includes A/B test results of Cookie Cats to examine what happens when the first gate in the game was moved from level 30 to level 40. When a player installed the game, he or she was randomly assigned to either gate_30 or gate_40.\n",
    "\n",
    "### Content\n",
    "\n",
    "The data we have is from 90,189 players that installed the game while the AB-test was running. The variables are:\n",
    "\n",
    "* userid: A unique number that identifies each player.\n",
    "* version: Whether the player was put in the control group (gate_30 - a gate at level 30) or the group with the moved gate (gate_40 - a gate at level 40).\n",
    "* sum_gamerounds: the number of game rounds played by the player during the first 14 days after install.\n",
    "* retention_1: Did the player come back and play 1 day after installing?\n",
    "* retention_7: Did the player come back and play 7 days after installing?\n",
    "\n",
    "When a player installed the game, he or she was randomly assigned to either.\n",
    "\n",
    "#### Link: https://www.kaggle.com/datasets/mursideyarkin/mobile-games-ab-testing-cookie-cats"
   ]
  },
  {
   "cell_type": "code",
   "execution_count": 1,
   "id": "90689048-890d-4f6e-832f-00d856d8ea9a",
   "metadata": {},
   "outputs": [],
   "source": [
    "import pandas as pd\n",
    "import numpy as np\n",
    "import matplotlib.pyplot as plt\n",
    "import seaborn as sns\n",
    "%matplotlib inline\n",
    "sns.set_style('whitegrid')\n",
    "\n",
    "from statsmodels.stats.proportion import proportions_ztest"
   ]
  },
  {
   "cell_type": "code",
   "execution_count": 2,
   "id": "94e0f718-4671-4bf6-aa1b-33eb3947d10c",
   "metadata": {},
   "outputs": [],
   "source": [
    "data = pd.read_csv('cookie_cats.csv')"
   ]
  },
  {
   "cell_type": "code",
   "execution_count": 3,
   "id": "11fa5247-7db9-49f0-aacc-7a6b8fba6d14",
   "metadata": {},
   "outputs": [
    {
     "data": {
      "text/html": [
       "<div>\n",
       "<style scoped>\n",
       "    .dataframe tbody tr th:only-of-type {\n",
       "        vertical-align: middle;\n",
       "    }\n",
       "\n",
       "    .dataframe tbody tr th {\n",
       "        vertical-align: top;\n",
       "    }\n",
       "\n",
       "    .dataframe thead th {\n",
       "        text-align: right;\n",
       "    }\n",
       "</style>\n",
       "<table border=\"1\" class=\"dataframe\">\n",
       "  <thead>\n",
       "    <tr style=\"text-align: right;\">\n",
       "      <th></th>\n",
       "      <th>userid</th>\n",
       "      <th>version</th>\n",
       "      <th>sum_gamerounds</th>\n",
       "      <th>retention_1</th>\n",
       "      <th>retention_7</th>\n",
       "    </tr>\n",
       "  </thead>\n",
       "  <tbody>\n",
       "    <tr>\n",
       "      <th>0</th>\n",
       "      <td>116</td>\n",
       "      <td>gate_30</td>\n",
       "      <td>3</td>\n",
       "      <td>False</td>\n",
       "      <td>False</td>\n",
       "    </tr>\n",
       "    <tr>\n",
       "      <th>1</th>\n",
       "      <td>337</td>\n",
       "      <td>gate_30</td>\n",
       "      <td>38</td>\n",
       "      <td>True</td>\n",
       "      <td>False</td>\n",
       "    </tr>\n",
       "    <tr>\n",
       "      <th>2</th>\n",
       "      <td>377</td>\n",
       "      <td>gate_40</td>\n",
       "      <td>165</td>\n",
       "      <td>True</td>\n",
       "      <td>False</td>\n",
       "    </tr>\n",
       "    <tr>\n",
       "      <th>3</th>\n",
       "      <td>483</td>\n",
       "      <td>gate_40</td>\n",
       "      <td>1</td>\n",
       "      <td>False</td>\n",
       "      <td>False</td>\n",
       "    </tr>\n",
       "    <tr>\n",
       "      <th>4</th>\n",
       "      <td>488</td>\n",
       "      <td>gate_40</td>\n",
       "      <td>179</td>\n",
       "      <td>True</td>\n",
       "      <td>True</td>\n",
       "    </tr>\n",
       "  </tbody>\n",
       "</table>\n",
       "</div>"
      ],
      "text/plain": [
       "   userid  version  sum_gamerounds  retention_1  retention_7\n",
       "0     116  gate_30               3        False        False\n",
       "1     337  gate_30              38         True        False\n",
       "2     377  gate_40             165         True        False\n",
       "3     483  gate_40               1        False        False\n",
       "4     488  gate_40             179         True         True"
      ]
     },
     "execution_count": 3,
     "metadata": {},
     "output_type": "execute_result"
    }
   ],
   "source": [
    "df = data.copy()\n",
    "df.head()"
   ]
  },
  {
   "cell_type": "code",
   "execution_count": 4,
   "id": "6a407a15-d059-41be-9133-b9e4e2b26cf7",
   "metadata": {},
   "outputs": [
    {
     "data": {
      "text/plain": [
       "userid            0\n",
       "version           0\n",
       "sum_gamerounds    0\n",
       "retention_1       0\n",
       "retention_7       0\n",
       "dtype: int64"
      ]
     },
     "execution_count": 4,
     "metadata": {},
     "output_type": "execute_result"
    }
   ],
   "source": [
    "df.isna().sum()"
   ]
  },
  {
   "cell_type": "code",
   "execution_count": 5,
   "id": "5f23563a-75c2-4c18-8ec5-2f00a0ec933a",
   "metadata": {},
   "outputs": [
    {
     "data": {
      "text/plain": [
       "userid             int64\n",
       "version           object\n",
       "sum_gamerounds     int64\n",
       "retention_1         bool\n",
       "retention_7         bool\n",
       "dtype: object"
      ]
     },
     "execution_count": 5,
     "metadata": {},
     "output_type": "execute_result"
    }
   ],
   "source": [
    "df.dtypes"
   ]
  },
  {
   "cell_type": "code",
   "execution_count": 6,
   "id": "93b76493-39a5-44f2-961a-ed36b9c0a87d",
   "metadata": {},
   "outputs": [
    {
     "data": {
      "text/html": [
       "<div>\n",
       "<style scoped>\n",
       "    .dataframe tbody tr th:only-of-type {\n",
       "        vertical-align: middle;\n",
       "    }\n",
       "\n",
       "    .dataframe tbody tr th {\n",
       "        vertical-align: top;\n",
       "    }\n",
       "\n",
       "    .dataframe thead th {\n",
       "        text-align: right;\n",
       "    }\n",
       "</style>\n",
       "<table border=\"1\" class=\"dataframe\">\n",
       "  <thead>\n",
       "    <tr style=\"text-align: right;\">\n",
       "      <th></th>\n",
       "      <th>userid</th>\n",
       "      <th>sum_gamerounds</th>\n",
       "    </tr>\n",
       "  </thead>\n",
       "  <tbody>\n",
       "    <tr>\n",
       "      <th>count</th>\n",
       "      <td>9.018900e+04</td>\n",
       "      <td>90189.000000</td>\n",
       "    </tr>\n",
       "    <tr>\n",
       "      <th>mean</th>\n",
       "      <td>4.998412e+06</td>\n",
       "      <td>51.872457</td>\n",
       "    </tr>\n",
       "    <tr>\n",
       "      <th>std</th>\n",
       "      <td>2.883286e+06</td>\n",
       "      <td>195.050858</td>\n",
       "    </tr>\n",
       "    <tr>\n",
       "      <th>min</th>\n",
       "      <td>1.160000e+02</td>\n",
       "      <td>0.000000</td>\n",
       "    </tr>\n",
       "    <tr>\n",
       "      <th>25%</th>\n",
       "      <td>2.512230e+06</td>\n",
       "      <td>5.000000</td>\n",
       "    </tr>\n",
       "    <tr>\n",
       "      <th>50%</th>\n",
       "      <td>4.995815e+06</td>\n",
       "      <td>16.000000</td>\n",
       "    </tr>\n",
       "    <tr>\n",
       "      <th>75%</th>\n",
       "      <td>7.496452e+06</td>\n",
       "      <td>51.000000</td>\n",
       "    </tr>\n",
       "    <tr>\n",
       "      <th>max</th>\n",
       "      <td>9.999861e+06</td>\n",
       "      <td>49854.000000</td>\n",
       "    </tr>\n",
       "  </tbody>\n",
       "</table>\n",
       "</div>"
      ],
      "text/plain": [
       "             userid  sum_gamerounds\n",
       "count  9.018900e+04    90189.000000\n",
       "mean   4.998412e+06       51.872457\n",
       "std    2.883286e+06      195.050858\n",
       "min    1.160000e+02        0.000000\n",
       "25%    2.512230e+06        5.000000\n",
       "50%    4.995815e+06       16.000000\n",
       "75%    7.496452e+06       51.000000\n",
       "max    9.999861e+06    49854.000000"
      ]
     },
     "execution_count": 6,
     "metadata": {},
     "output_type": "execute_result"
    }
   ],
   "source": [
    "df.describe()"
   ]
  },
  {
   "cell_type": "code",
   "execution_count": 7,
   "id": "fb8e1cf0-43a3-43b9-b20b-d074dfa61ace",
   "metadata": {},
   "outputs": [
    {
     "data": {
      "text/plain": [
       "0"
      ]
     },
     "execution_count": 7,
     "metadata": {},
     "output_type": "execute_result"
    }
   ],
   "source": [
    "df.duplicated().sum()"
   ]
  },
  {
   "cell_type": "code",
   "execution_count": 8,
   "id": "13ed9de2-8c3e-4291-a953-3b618124ea34",
   "metadata": {},
   "outputs": [
    {
     "name": "stdout",
     "output_type": "stream",
     "text": [
      "Unique values in userid column: 90189\n",
      "Unique values in version column: 2\n",
      "Unique values in sum_gamerounds column: 942\n",
      "Unique values in retention_1 column: 2\n",
      "Unique values in retention_7 column: 2\n"
     ]
    }
   ],
   "source": [
    "cols = list(df.columns)\n",
    "\n",
    "for col in cols:\n",
    "    print(f'Unique values in {col} column: {df[col].nunique()}')"
   ]
  },
  {
   "cell_type": "code",
   "execution_count": 9,
   "id": "0d445777-ef73-40c4-872d-355176c1f8f7",
   "metadata": {},
   "outputs": [
    {
     "data": {
      "image/png": "[encoded data removed]",
      "text/plain": [
       "<Figure size 800x400 with 1 Axes>"
      ]
     },
     "metadata": {},
     "output_type": "display_data"
    }
   ],
   "source": [
    "plt.figure(figsize = (8,4))\n",
    "df.groupby('sum_gamerounds')['userid'].count().head(200).plot(color = 'green')\n",
    "plt.title('Users amount who played 200 rounds or less')\n",
    "plt.xlabel('Rounds played')\n",
    "plt.ylabel('Users count')\n",
    "plt.show()"
   ]
  },
  {
   "cell_type": "code",
   "execution_count": 10,
   "id": "bd455ccd-c0ce-46eb-b621-95e552372d31",
   "metadata": {},
   "outputs": [
    {
     "name": "stdout",
     "output_type": "stream",
     "text": [
      "3994 users never played after installing.\n"
     ]
    }
   ],
   "source": [
    "null_rounds = df[df['sum_gamerounds']==0]['userid'].count()\n",
    "print(f'{null_rounds} users never played after installing.')"
   ]
  },
  {
   "cell_type": "code",
   "execution_count": 11,
   "id": "451f43d8-2c76-463f-bce2-dde3d6eeb594",
   "metadata": {},
   "outputs": [
    {
     "name": "stdout",
     "output_type": "stream",
     "text": [
      "45489 players had version gate_40\n",
      "44700 players had version gate_30\n",
      "Groups are almost balanced.\n"
     ]
    }
   ],
   "source": [
    "vc = df.version.value_counts()\n",
    "print(f'{vc.gate_40} players had version gate_40')\n",
    "print(f'{vc.gate_30} players had version gate_30')\n",
    "print('Groups are almost balanced.')"
   ]
  },
  {
   "cell_type": "code",
   "execution_count": 12,
   "id": "de86eda6-3430-44e0-9f5d-4930cad39d07",
   "metadata": {},
   "outputs": [
    {
     "name": "stdout",
     "output_type": "stream",
     "text": [
      "44.52% players came back and played 1 day after installing.\n"
     ]
    }
   ],
   "source": [
    "ret_1 = df['retention_1'].sum() / df['retention_1'].count() * 100\n",
    "print(f'{ret_1.round(2)}% players came back and played 1 day after installing.')"
   ]
  },
  {
   "cell_type": "code",
   "execution_count": 13,
   "id": "cc481ca9-5425-4063-8523-39a6e07a6027",
   "metadata": {},
   "outputs": [
    {
     "name": "stdout",
     "output_type": "stream",
     "text": [
      "18.61% players came back and played 7 day after installing.\n"
     ]
    }
   ],
   "source": [
    "ret_7 = df['retention_7'].sum() / df['retention_7'].count() * 100\n",
    "print(f'{ret_7.round(2)}% players came back and played 7 day after installing.')"
   ]
  },
  {
   "cell_type": "markdown",
   "id": "5b646b28-73b9-416a-b12a-22a6ed936911",
   "metadata": {},
   "source": [
    "### AB testing - two groups comparison\n",
    "\n",
    "H0 : p1 = p2\n",
    "\n",
    "H0 : There is no statistically significant difference between gate_30 players and  gate_40 players. (based on 1 day player retention)\n",
    "\n",
    "H1 : p1 ! = p2\n",
    "\n",
    "H1 : There is a statistically significant difference between gate_30 players and gate_40 players. (based on 1 day player retention)\n",
    "\n",
    "In the video game industry; There is a criterion that the game is downloaded and \"if it comes back after 1 day and 7 days, the higher the percentage of players playing the game is, the more fun and interesting the game\"."
   ]
  },
  {
   "cell_type": "markdown",
   "id": "93d13978-51c5-4980-894b-44f8ca23ef07",
   "metadata": {},
   "source": [
    "### Testing on 1-day retention"
   ]
  },
  {
   "cell_type": "code",
   "execution_count": 14,
   "id": "ada47393-b9ed-48f3-b204-b2f7dfa24247",
   "metadata": {},
   "outputs": [
    {
     "data": {
      "text/plain": [
       "version\n",
       "gate_30    20034\n",
       "gate_40    20119\n",
       "Name: retention_1, dtype: int64"
      ]
     },
     "execution_count": 14,
     "metadata": {},
     "output_type": "execute_result"
    }
   ],
   "source": [
    "df.groupby('version')['retention_1'].sum()"
   ]
  },
  {
   "cell_type": "code",
   "execution_count": 15,
   "id": "1b52c12e-1505-473e-8a9a-3e64717491f8",
   "metadata": {},
   "outputs": [
    {
     "name": "stdout",
     "output_type": "stream",
     "text": [
      "Z-test statistic: 1.784\n",
      "p-value: 0.074\n"
     ]
    }
   ],
   "source": [
    "n_success = np.array([20034, 20119])\n",
    "n_observations = np.array([44700, 45489])\n",
    "z_stat, p_value = proportions_ztest(count=n_success, nobs=n_observations)\n",
    "print(f'Z-test statistic: {z_stat.round(3)}')\n",
    "print(f'p-value: {p_value.round(3)}')"
   ]
  },
  {
   "cell_type": "markdown",
   "id": "44732737-c8b2-421d-b02f-ece55685477f",
   "metadata": {},
   "source": [
    "* H0 cannot be rejected according to retention-1 because p-value = 0.074 > 0.05.\n",
    "\n",
    "There is NO statistically significant difference between gate_30 players and gate_40 players. (based on 1 day player retention retention)"
   ]
  },
  {
   "cell_type": "markdown",
   "id": "0bbc2977-bf67-4998-bf3f-f8547c6a60b8",
   "metadata": {},
   "source": [
    "### Testing on 7-days retention"
   ]
  },
  {
   "cell_type": "code",
   "execution_count": 16,
   "id": "d4a65ce9-76c8-461b-a9cb-183a2c0a75b5",
   "metadata": {},
   "outputs": [
    {
     "name": "stdout",
     "output_type": "stream",
     "text": [
      "Z-test statistic: 3.164\n",
      "p-value: 0.002\n"
     ]
    }
   ],
   "source": [
    "n_success = np.array([8502, 8279])\n",
    "n_observations = np.array([44700, 45489])\n",
    "z_stat, p_value = proportions_ztest(count=n_success, nobs=n_observations)\n",
    "print(f'Z-test statistic: {z_stat.round(3)}')\n",
    "print(f'p-value: {p_value.round(3)}')"
   ]
  },
  {
   "cell_type": "markdown",
   "id": "6fdf5903-e117-4127-859c-e908ce56c35e",
   "metadata": {},
   "source": [
    "* H0 is REJECTED according to retention-7 because p-value = 0.001 < 0.05.\n",
    "\n",
    "There is a statistically significant difference between gate_30 players and gate_40. (based on 7-day player retention retention)"
   ]
  },
  {
   "cell_type": "code",
   "execution_count": 17,
   "id": "e9705364-d26e-440b-9fd3-b24f12f2ed70",
   "metadata": {},
   "outputs": [
    {
     "name": "stdout",
     "output_type": "stream",
     "text": [
      "gate_30 version success rate: 0.19\n",
      "gate_40 version success rate: 0.18\n"
     ]
    }
   ],
   "source": [
    "g30s, g40s = n_success/n_observations\n",
    "print(f'gate_30 version success rate: {g30s.round(2)}')\n",
    "print(f'gate_40 version success rate: {g40s.round(2)}')"
   ]
  },
  {
   "cell_type": "markdown",
   "id": "9856e875-fbf4-4f94-aa24-1bf85952b413",
   "metadata": {},
   "source": [
    "### Conclusion:\n",
    "There is no significant difference between these two versions."
   ]
  }
 ],
 "metadata": {
  "kernelspec": {
   "display_name": "Python 3 (ipykernel)",
   "language": "python",
   "name": "python3"
  },
  "language_info": {
   "codemirror_mode": {
    "name": "ipython",
    "version": 3
   },
   "file_extension": ".py",
   "mimetype": "text/x-python",
   "name": "python",
   "nbconvert_exporter": "python",
   "pygments_lexer": "ipython3",
   "version": "3.9.13"
  }
 },
 "nbformat": 4,
 "nbformat_minor": 5
}
